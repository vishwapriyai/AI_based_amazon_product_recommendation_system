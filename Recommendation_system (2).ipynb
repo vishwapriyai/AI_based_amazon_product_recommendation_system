{
 "cells": [
  {
   "cell_type": "markdown",
   "metadata": {
    "id": "LhuRflILh1kx"
   },
   "source": [
    "# IMPORT LIBRARIES"
   ]
  },
  {
   "cell_type": "code",
   "execution_count": 1,
   "metadata": {
    "id": "fjV1TfKfhrLq"
   },
   "outputs": [],
   "source": [
    "# Importing necessary libraries\n",
    "import pandas as pd   # For data manipulation\n",
    "import numpy as np    # For numerical operations\n",
    "import matplotlib.pyplot as plt  # For plotting\n",
    "import seaborn as sns  # For advanced data visualization\n",
    "from surprise import SVD, KNNBasic, Dataset, Reader  # For collaborative filtering and data handling\n",
    "from surprise.model_selection import train_test_split  # For splitting data into training and testing sets\n",
    "from surprise.accuracy import rmse  # For evaluating the model"
   ]
  },
  {
   "cell_type": "markdown",
   "metadata": {
    "id": "Icb1JLezh4FC"
   },
   "source": [
    "# LOAD DATA"
   ]
  },
  {
   "cell_type": "code",
   "execution_count": 2,
   "metadata": {
    "colab": {
     "base_uri": "https://localhost:8080/",
     "height": 424
    },
    "id": "mvPin5dChWqp",
    "outputId": "fa62c4f3-61eb-4a5e-d152-9229ed7d5377"
   },
   "outputs": [
    {
     "data": {
      "text/html": [
       "<div>\n",
       "<style scoped>\n",
       "    .dataframe tbody tr th:only-of-type {\n",
       "        vertical-align: middle;\n",
       "    }\n",
       "\n",
       "    .dataframe tbody tr th {\n",
       "        vertical-align: top;\n",
       "    }\n",
       "\n",
       "    .dataframe thead th {\n",
       "        text-align: right;\n",
       "    }\n",
       "</style>\n",
       "<table border=\"1\" class=\"dataframe\">\n",
       "  <thead>\n",
       "    <tr style=\"text-align: right;\">\n",
       "      <th></th>\n",
       "      <th>userId</th>\n",
       "      <th>productId</th>\n",
       "      <th>Rating</th>\n",
       "      <th>timestamp</th>\n",
       "    </tr>\n",
       "  </thead>\n",
       "  <tbody>\n",
       "    <tr>\n",
       "      <th>0</th>\n",
       "      <td>AKM1MP6P0OYPR</td>\n",
       "      <td>0132793040</td>\n",
       "      <td>5.0</td>\n",
       "      <td>1365811200</td>\n",
       "    </tr>\n",
       "    <tr>\n",
       "      <th>1</th>\n",
       "      <td>A2CX7LUOHB2NDG</td>\n",
       "      <td>0321732944</td>\n",
       "      <td>5.0</td>\n",
       "      <td>1341100800</td>\n",
       "    </tr>\n",
       "    <tr>\n",
       "      <th>2</th>\n",
       "      <td>A2NWSAGRHCP8N5</td>\n",
       "      <td>0439886341</td>\n",
       "      <td>1.0</td>\n",
       "      <td>1367193600</td>\n",
       "    </tr>\n",
       "    <tr>\n",
       "      <th>3</th>\n",
       "      <td>A2WNBOD3WNDNKT</td>\n",
       "      <td>0439886341</td>\n",
       "      <td>3.0</td>\n",
       "      <td>1374451200</td>\n",
       "    </tr>\n",
       "    <tr>\n",
       "      <th>4</th>\n",
       "      <td>A1GI0U4ZRJA8WN</td>\n",
       "      <td>0439886341</td>\n",
       "      <td>1.0</td>\n",
       "      <td>1334707200</td>\n",
       "    </tr>\n",
       "    <tr>\n",
       "      <th>...</th>\n",
       "      <td>...</td>\n",
       "      <td>...</td>\n",
       "      <td>...</td>\n",
       "      <td>...</td>\n",
       "    </tr>\n",
       "    <tr>\n",
       "      <th>59995</th>\n",
       "      <td>A3DX6U1B9KDUW4</td>\n",
       "      <td>B00004WHSD</td>\n",
       "      <td>1.0</td>\n",
       "      <td>1121385600</td>\n",
       "    </tr>\n",
       "    <tr>\n",
       "      <th>59996</th>\n",
       "      <td>A1BCHEPYUNRLJ</td>\n",
       "      <td>B00004WHSD</td>\n",
       "      <td>5.0</td>\n",
       "      <td>1009152000</td>\n",
       "    </tr>\n",
       "    <tr>\n",
       "      <th>59997</th>\n",
       "      <td>A1RLVKQQWHOQAW</td>\n",
       "      <td>B00004WHSD</td>\n",
       "      <td>5.0</td>\n",
       "      <td>984355200</td>\n",
       "    </tr>\n",
       "    <tr>\n",
       "      <th>59998</th>\n",
       "      <td>A3T9DOOJ5B1U7O</td>\n",
       "      <td>B00004WHV7</td>\n",
       "      <td>5.0</td>\n",
       "      <td>1014249600</td>\n",
       "    </tr>\n",
       "    <tr>\n",
       "      <th>59999</th>\n",
       "      <td>A35FPXYK6GE49D</td>\n",
       "      <td>B00004WHV7</td>\n",
       "      <td>5.0</td>\n",
       "      <td>987292800</td>\n",
       "    </tr>\n",
       "  </tbody>\n",
       "</table>\n",
       "<p>60000 rows × 4 columns</p>\n",
       "</div>"
      ],
      "text/plain": [
       "               userId   productId  Rating   timestamp\n",
       "0       AKM1MP6P0OYPR  0132793040     5.0  1365811200\n",
       "1      A2CX7LUOHB2NDG  0321732944     5.0  1341100800\n",
       "2      A2NWSAGRHCP8N5  0439886341     1.0  1367193600\n",
       "3      A2WNBOD3WNDNKT  0439886341     3.0  1374451200\n",
       "4      A1GI0U4ZRJA8WN  0439886341     1.0  1334707200\n",
       "...               ...         ...     ...         ...\n",
       "59995  A3DX6U1B9KDUW4  B00004WHSD     1.0  1121385600\n",
       "59996   A1BCHEPYUNRLJ  B00004WHSD     5.0  1009152000\n",
       "59997  A1RLVKQQWHOQAW  B00004WHSD     5.0   984355200\n",
       "59998  A3T9DOOJ5B1U7O  B00004WHV7     5.0  1014249600\n",
       "59999  A35FPXYK6GE49D  B00004WHV7     5.0   987292800\n",
       "\n",
       "[60000 rows x 4 columns]"
      ]
     },
     "execution_count": 2,
     "metadata": {},
     "output_type": "execute_result"
    }
   ],
   "source": [
    "data=pd.read_csv('Amazonproducts.csv')\n",
    "data"
   ]
  },
  {
   "cell_type": "markdown",
   "metadata": {},
   "source": [
    "# PREPROCESS DATA"
   ]
  },
  {
   "cell_type": "code",
   "execution_count": 3,
   "metadata": {
    "colab": {
     "base_uri": "https://localhost:8080/",
     "height": 424
    },
    "id": "fYuMnYCfiZ6j",
    "outputId": "090444f8-313f-4d1e-f522-71d97c636116"
   },
   "outputs": [
    {
     "data": {
      "text/html": [
       "<div>\n",
       "<style scoped>\n",
       "    .dataframe tbody tr th:only-of-type {\n",
       "        vertical-align: middle;\n",
       "    }\n",
       "\n",
       "    .dataframe tbody tr th {\n",
       "        vertical-align: top;\n",
       "    }\n",
       "\n",
       "    .dataframe thead th {\n",
       "        text-align: right;\n",
       "    }\n",
       "</style>\n",
       "<table border=\"1\" class=\"dataframe\">\n",
       "  <thead>\n",
       "    <tr style=\"text-align: right;\">\n",
       "      <th></th>\n",
       "      <th>userId</th>\n",
       "      <th>productId</th>\n",
       "      <th>Rating</th>\n",
       "      <th>timestamp</th>\n",
       "    </tr>\n",
       "  </thead>\n",
       "  <tbody>\n",
       "    <tr>\n",
       "      <th>0</th>\n",
       "      <td>userId</td>\n",
       "      <td>productId</td>\n",
       "      <td>Rating</td>\n",
       "      <td>timestamp</td>\n",
       "    </tr>\n",
       "    <tr>\n",
       "      <th>1</th>\n",
       "      <td>AKM1MP6P0OYPR</td>\n",
       "      <td>0132793040</td>\n",
       "      <td>5.0</td>\n",
       "      <td>1365811200</td>\n",
       "    </tr>\n",
       "    <tr>\n",
       "      <th>2</th>\n",
       "      <td>A2CX7LUOHB2NDG</td>\n",
       "      <td>0321732944</td>\n",
       "      <td>5.0</td>\n",
       "      <td>1341100800</td>\n",
       "    </tr>\n",
       "    <tr>\n",
       "      <th>3</th>\n",
       "      <td>A2NWSAGRHCP8N5</td>\n",
       "      <td>0439886341</td>\n",
       "      <td>1.0</td>\n",
       "      <td>1367193600</td>\n",
       "    </tr>\n",
       "    <tr>\n",
       "      <th>4</th>\n",
       "      <td>A2WNBOD3WNDNKT</td>\n",
       "      <td>0439886341</td>\n",
       "      <td>3.0</td>\n",
       "      <td>1374451200</td>\n",
       "    </tr>\n",
       "    <tr>\n",
       "      <th>...</th>\n",
       "      <td>...</td>\n",
       "      <td>...</td>\n",
       "      <td>...</td>\n",
       "      <td>...</td>\n",
       "    </tr>\n",
       "    <tr>\n",
       "      <th>59995</th>\n",
       "      <td>AJLBSZDI3SFHP</td>\n",
       "      <td>B00004WHS4</td>\n",
       "      <td>4.0</td>\n",
       "      <td>982195200</td>\n",
       "    </tr>\n",
       "    <tr>\n",
       "      <th>59996</th>\n",
       "      <td>A3DX6U1B9KDUW4</td>\n",
       "      <td>B00004WHSD</td>\n",
       "      <td>1.0</td>\n",
       "      <td>1121385600</td>\n",
       "    </tr>\n",
       "    <tr>\n",
       "      <th>59997</th>\n",
       "      <td>A1BCHEPYUNRLJ</td>\n",
       "      <td>B00004WHSD</td>\n",
       "      <td>5.0</td>\n",
       "      <td>1009152000</td>\n",
       "    </tr>\n",
       "    <tr>\n",
       "      <th>59998</th>\n",
       "      <td>A1RLVKQQWHOQAW</td>\n",
       "      <td>B00004WHSD</td>\n",
       "      <td>5.0</td>\n",
       "      <td>984355200</td>\n",
       "    </tr>\n",
       "    <tr>\n",
       "      <th>59999</th>\n",
       "      <td>A3T9DOOJ5B1U7O</td>\n",
       "      <td>B00004WHV7</td>\n",
       "      <td>5.0</td>\n",
       "      <td>1014249600</td>\n",
       "    </tr>\n",
       "  </tbody>\n",
       "</table>\n",
       "<p>60000 rows × 4 columns</p>\n",
       "</div>"
      ],
      "text/plain": [
       "               userId   productId  Rating   timestamp\n",
       "0              userId   productId  Rating   timestamp\n",
       "1       AKM1MP6P0OYPR  0132793040     5.0  1365811200\n",
       "2      A2CX7LUOHB2NDG  0321732944     5.0  1341100800\n",
       "3      A2NWSAGRHCP8N5  0439886341     1.0  1367193600\n",
       "4      A2WNBOD3WNDNKT  0439886341     3.0  1374451200\n",
       "...               ...         ...     ...         ...\n",
       "59995   AJLBSZDI3SFHP  B00004WHS4     4.0   982195200\n",
       "59996  A3DX6U1B9KDUW4  B00004WHSD     1.0  1121385600\n",
       "59997   A1BCHEPYUNRLJ  B00004WHSD     5.0  1009152000\n",
       "59998  A1RLVKQQWHOQAW  B00004WHSD     5.0   984355200\n",
       "59999  A3T9DOOJ5B1U7O  B00004WHV7     5.0  1014249600\n",
       "\n",
       "[60000 rows x 4 columns]"
      ]
     },
     "execution_count": 3,
     "metadata": {},
     "output_type": "execute_result"
    }
   ],
   "source": [
    "data=pd.read_csv('Amazonproducts.csv',names=['userId', 'productId','Rating','timestamp'])\n",
    "data=data.iloc[:60000,:] # Selecting a subset of the data for efficiency\n",
    "data.to_csv('Amazonproducts.csv', index=False) # Saving the preprocessed data\n",
    "data"
   ]
  },
  {
   "cell_type": "markdown",
   "metadata": {
    "id": "SWGOPV3Th72p"
   },
   "source": [
    "# EDA"
   ]
  },
  {
   "cell_type": "code",
   "execution_count": 4,
   "metadata": {
    "colab": {
     "base_uri": "https://localhost:8080/",
     "height": 206
    },
    "id": "XNFfXSszh7Mw",
    "outputId": "e639fd98-d7cb-485e-8e5c-598c29693a22"
   },
   "outputs": [
    {
     "data": {
      "text/html": [
       "<div>\n",
       "<style scoped>\n",
       "    .dataframe tbody tr th:only-of-type {\n",
       "        vertical-align: middle;\n",
       "    }\n",
       "\n",
       "    .dataframe tbody tr th {\n",
       "        vertical-align: top;\n",
       "    }\n",
       "\n",
       "    .dataframe thead th {\n",
       "        text-align: right;\n",
       "    }\n",
       "</style>\n",
       "<table border=\"1\" class=\"dataframe\">\n",
       "  <thead>\n",
       "    <tr style=\"text-align: right;\">\n",
       "      <th></th>\n",
       "      <th>userId</th>\n",
       "      <th>productId</th>\n",
       "      <th>Rating</th>\n",
       "      <th>timestamp</th>\n",
       "    </tr>\n",
       "  </thead>\n",
       "  <tbody>\n",
       "    <tr>\n",
       "      <th>0</th>\n",
       "      <td>userId</td>\n",
       "      <td>productId</td>\n",
       "      <td>Rating</td>\n",
       "      <td>timestamp</td>\n",
       "    </tr>\n",
       "    <tr>\n",
       "      <th>1</th>\n",
       "      <td>AKM1MP6P0OYPR</td>\n",
       "      <td>0132793040</td>\n",
       "      <td>5.0</td>\n",
       "      <td>1365811200</td>\n",
       "    </tr>\n",
       "    <tr>\n",
       "      <th>2</th>\n",
       "      <td>A2CX7LUOHB2NDG</td>\n",
       "      <td>0321732944</td>\n",
       "      <td>5.0</td>\n",
       "      <td>1341100800</td>\n",
       "    </tr>\n",
       "    <tr>\n",
       "      <th>3</th>\n",
       "      <td>A2NWSAGRHCP8N5</td>\n",
       "      <td>0439886341</td>\n",
       "      <td>1.0</td>\n",
       "      <td>1367193600</td>\n",
       "    </tr>\n",
       "    <tr>\n",
       "      <th>4</th>\n",
       "      <td>A2WNBOD3WNDNKT</td>\n",
       "      <td>0439886341</td>\n",
       "      <td>3.0</td>\n",
       "      <td>1374451200</td>\n",
       "    </tr>\n",
       "  </tbody>\n",
       "</table>\n",
       "</div>"
      ],
      "text/plain": [
       "           userId   productId  Rating   timestamp\n",
       "0          userId   productId  Rating   timestamp\n",
       "1   AKM1MP6P0OYPR  0132793040     5.0  1365811200\n",
       "2  A2CX7LUOHB2NDG  0321732944     5.0  1341100800\n",
       "3  A2NWSAGRHCP8N5  0439886341     1.0  1367193600\n",
       "4  A2WNBOD3WNDNKT  0439886341     3.0  1374451200"
      ]
     },
     "execution_count": 4,
     "metadata": {},
     "output_type": "execute_result"
    }
   ],
   "source": [
    "data.head()"
   ]
  },
  {
   "cell_type": "code",
   "execution_count": 5,
   "metadata": {
    "colab": {
     "base_uri": "https://localhost:8080/",
     "height": 206
    },
    "id": "q_tIllWbhp5o",
    "outputId": "9b35c5ac-480c-4d05-a20b-cb17dd8ae504"
   },
   "outputs": [
    {
     "data": {
      "text/html": [
       "<div>\n",
       "<style scoped>\n",
       "    .dataframe tbody tr th:only-of-type {\n",
       "        vertical-align: middle;\n",
       "    }\n",
       "\n",
       "    .dataframe tbody tr th {\n",
       "        vertical-align: top;\n",
       "    }\n",
       "\n",
       "    .dataframe thead th {\n",
       "        text-align: right;\n",
       "    }\n",
       "</style>\n",
       "<table border=\"1\" class=\"dataframe\">\n",
       "  <thead>\n",
       "    <tr style=\"text-align: right;\">\n",
       "      <th></th>\n",
       "      <th>userId</th>\n",
       "      <th>productId</th>\n",
       "      <th>Rating</th>\n",
       "      <th>timestamp</th>\n",
       "    </tr>\n",
       "  </thead>\n",
       "  <tbody>\n",
       "    <tr>\n",
       "      <th>59995</th>\n",
       "      <td>AJLBSZDI3SFHP</td>\n",
       "      <td>B00004WHS4</td>\n",
       "      <td>4.0</td>\n",
       "      <td>982195200</td>\n",
       "    </tr>\n",
       "    <tr>\n",
       "      <th>59996</th>\n",
       "      <td>A3DX6U1B9KDUW4</td>\n",
       "      <td>B00004WHSD</td>\n",
       "      <td>1.0</td>\n",
       "      <td>1121385600</td>\n",
       "    </tr>\n",
       "    <tr>\n",
       "      <th>59997</th>\n",
       "      <td>A1BCHEPYUNRLJ</td>\n",
       "      <td>B00004WHSD</td>\n",
       "      <td>5.0</td>\n",
       "      <td>1009152000</td>\n",
       "    </tr>\n",
       "    <tr>\n",
       "      <th>59998</th>\n",
       "      <td>A1RLVKQQWHOQAW</td>\n",
       "      <td>B00004WHSD</td>\n",
       "      <td>5.0</td>\n",
       "      <td>984355200</td>\n",
       "    </tr>\n",
       "    <tr>\n",
       "      <th>59999</th>\n",
       "      <td>A3T9DOOJ5B1U7O</td>\n",
       "      <td>B00004WHV7</td>\n",
       "      <td>5.0</td>\n",
       "      <td>1014249600</td>\n",
       "    </tr>\n",
       "  </tbody>\n",
       "</table>\n",
       "</div>"
      ],
      "text/plain": [
       "               userId   productId Rating   timestamp\n",
       "59995   AJLBSZDI3SFHP  B00004WHS4    4.0   982195200\n",
       "59996  A3DX6U1B9KDUW4  B00004WHSD    1.0  1121385600\n",
       "59997   A1BCHEPYUNRLJ  B00004WHSD    5.0  1009152000\n",
       "59998  A1RLVKQQWHOQAW  B00004WHSD    5.0   984355200\n",
       "59999  A3T9DOOJ5B1U7O  B00004WHV7    5.0  1014249600"
      ]
     },
     "execution_count": 5,
     "metadata": {},
     "output_type": "execute_result"
    }
   ],
   "source": [
    "data.tail()"
   ]
  },
  {
   "cell_type": "code",
   "execution_count": 6,
   "metadata": {
    "colab": {
     "base_uri": "https://localhost:8080/"
    },
    "id": "9O_HVPf6iG8P",
    "outputId": "4c49ad3f-cf2a-4ef2-c5f7-13de942bfa1e"
   },
   "outputs": [
    {
     "data": {
      "text/plain": [
       "(60000, 4)"
      ]
     },
     "execution_count": 6,
     "metadata": {},
     "output_type": "execute_result"
    }
   ],
   "source": [
    "data.shape"
   ]
  },
  {
   "cell_type": "code",
   "execution_count": 7,
   "metadata": {
    "colab": {
     "base_uri": "https://localhost:8080/"
    },
    "id": "5U_LGoM7iK0U",
    "outputId": "ea16aa02-554d-4632-c8ef-7a62a338d055"
   },
   "outputs": [
    {
     "data": {
      "text/plain": [
       "userId       object\n",
       "productId    object\n",
       "Rating       object\n",
       "timestamp    object\n",
       "dtype: object"
      ]
     },
     "execution_count": 7,
     "metadata": {},
     "output_type": "execute_result"
    }
   ],
   "source": [
    "data.dtypes"
   ]
  },
  {
   "cell_type": "code",
   "execution_count": 8,
   "metadata": {
    "colab": {
     "base_uri": "https://localhost:8080/"
    },
    "id": "Wuoj137cipYs",
    "outputId": "389307ec-dc75-41ee-ed77-add4c57bab25"
   },
   "outputs": [
    {
     "name": "stdout",
     "output_type": "stream",
     "text": [
      "Number of Rating: 60000\n",
      "Columns: ['userId' 'productId' 'Rating' 'timestamp']\n",
      "Number of Unique Users: 55334\n",
      "Number of Unique Products: 4141\n"
     ]
    }
   ],
   "source": [
    "print(\"Number of Rating: {}\".format(data.shape[0]) )\n",
    "print(\"Columns: {}\".format( np.array2string(data.columns.values)) )\n",
    "print(\"Number of Unique Users: {}\".format(len(data.userId.unique()) ) )\n",
    "print(\"Number of Unique Products: {}\".format(len(data.productId.unique())  ) )"
   ]
  },
  {
   "cell_type": "code",
   "execution_count": 9,
   "metadata": {},
   "outputs": [
    {
     "name": "stdout",
     "output_type": "stream",
     "text": [
      "object\n"
     ]
    }
   ],
   "source": [
    "print(data['Rating'].dtype)"
   ]
  },
  {
   "cell_type": "code",
   "execution_count": 10,
   "metadata": {},
   "outputs": [],
   "source": [
    "data['Rating'] = pd.to_numeric(data['Rating'], errors='coerce')"
   ]
  },
  {
   "cell_type": "code",
   "execution_count": 11,
   "metadata": {
    "colab": {
     "base_uri": "https://localhost:8080/"
    },
    "id": "ZlFqYNTgj-j-",
    "outputId": "e651dc46-ee28-43ad-ee5c-f7a4471d4065"
   },
   "outputs": [
    {
     "data": {
      "text/plain": [
       "count    59999.000000\n",
       "mean         4.052334\n",
       "std          1.338564\n",
       "min          1.000000\n",
       "25%          4.000000\n",
       "50%          5.000000\n",
       "75%          5.000000\n",
       "max          5.000000\n",
       "Name: Rating, dtype: float64"
      ]
     },
     "execution_count": 11,
     "metadata": {},
     "output_type": "execute_result"
    }
   ],
   "source": [
    "data.describe()['Rating']"
   ]
  },
  {
   "cell_type": "code",
   "execution_count": 12,
   "metadata": {
    "colab": {
     "base_uri": "https://localhost:8080/"
    },
    "id": "vasDbNQAkEX4",
    "outputId": "ab5f2e59-7694-4edf-bb39-884ee25660e1"
   },
   "outputs": [
    {
     "name": "stdout",
     "output_type": "stream",
     "text": [
      "Minimum rating is: 1.0\n",
      "Maximum rating is: 5.0\n"
     ]
    }
   ],
   "source": [
    "print(f'Minimum rating is: {data.Rating.min()}')\n",
    "print(f'Maximum rating is: {data.Rating.max()}')"
   ]
  },
  {
   "cell_type": "code",
   "execution_count": 13,
   "metadata": {
    "colab": {
     "base_uri": "https://localhost:8080/"
    },
    "id": "jifoP1PDkL2J",
    "outputId": "18fca502-b9ec-4518-91c5-e56e78f2ae3b"
   },
   "outputs": [
    {
     "name": "stdout",
     "output_type": "stream",
     "text": [
      "Number of missing values in data: \n",
      " userId       0\n",
      "productId    0\n",
      "Rating       1\n",
      "timestamp    0\n",
      "dtype: int64\n"
     ]
    }
   ],
   "source": [
    "print('Number of missing values in data: \\n',data.isnull().sum())"
   ]
  },
  {
   "cell_type": "code",
   "execution_count": 14,
   "metadata": {
    "colab": {
     "base_uri": "https://localhost:8080/",
     "height": 368
    },
    "id": "szQr9gA_kVQE",
    "outputId": "9593c090-5c8e-4b4f-deb3-c6bcd3448d29"
   },
   "outputs": [
    {
     "data": {
      "text/plain": [
       "Text(0, 0.5, 'RATINGS COUNT')"
      ]
     },
     "execution_count": 14,
     "metadata": {},
     "output_type": "execute_result"
    },
    {
     "data": {
      "image/png": "[encoded data removed]",
      "text/plain": [
       "<Figure size 1000x500 with 1 Axes>"
      ]
     },
     "metadata": {},
     "output_type": "display_data"
    }
   ],
   "source": [
    "# Analyzing the distribution of ratings\n",
    "plt.figure(figsize=(10,5))\n",
    "ratings = data['Rating'].value_counts()\n",
    "sns.barplot(x=ratings.index, y=ratings.values)\n",
    "plt.title('RATING DISTRIBUTION')\n",
    "plt.xlabel('RATINGS')\n",
    "plt.ylabel('RATINGS COUNT')"
   ]
  },
  {
   "cell_type": "code",
   "execution_count": 15,
   "metadata": {
    "colab": {
     "base_uri": "https://localhost:8080/"
    },
    "id": "lJCPQPPIlNyx",
    "outputId": "0b201853-82bf-4c3c-bcd6-fd481f82b0e9"
   },
   "outputs": [
    {
     "data": {
      "text/plain": [
       "userId\n",
       "A231WM2Z2JL0U3    45\n",
       "AY8Q1X7G96HV5     34\n",
       "A2BGZ52M908MJY    33\n",
       "A1NVD0TKNS1GT5    25\n",
       "A1MJMYLRTZ76ZX    22\n",
       "A3MEIR72XKQY88    22\n",
       "A1RPTVW5VEOSI     22\n",
       "ALUNVOQRXOZIA     21\n",
       "A243HY69GIAHFI    20\n",
       "A6FIAB28IS79      17\n",
       "A23ZO1BVFFLGHO    17\n",
       "A1ISUNUWG0K02V    16\n",
       "A3IBOQ8R44YG9L    15\n",
       "A7Y6AVS576M03     15\n",
       "A3FTI86WAVJOLG    14\n",
       "A1WVMDRJU19AFD    14\n",
       "A2B7BUH8834Y6M    13\n",
       "A2M5GKAGV88LWD    13\n",
       "A3A15L96IYUO6V    13\n",
       "ARXU3FESTWMJJ     13\n",
       "A2G2QNKDL1Y6AC    13\n",
       "A6ZPLVAUQ6695     13\n",
       "AD50TWQOM8W4G     12\n",
       "A3PLX6PTM2ERKL    11\n",
       "AEE2GJR0VF6R7     11\n",
       "Name: Rating, dtype: int64"
      ]
     },
     "execution_count": 15,
     "metadata": {},
     "output_type": "execute_result"
    }
   ],
   "source": [
    "no_of_rated_products_per_user = data.groupby(by='userId')['Rating'].count().sort_values(ascending=False)\n",
    "no_of_rated_products_per_user.head(25)"
   ]
  },
  {
   "cell_type": "code",
   "execution_count": 16,
   "metadata": {
    "colab": {
     "base_uri": "https://localhost:8080/",
     "height": 238
    },
    "id": "caVTwKbkoUt1",
    "outputId": "fdd49348-1f3d-4edc-a506-fd4f6976bf80"
   },
   "outputs": [
    {
     "data": {
      "text/html": [
       "<div>\n",
       "<style scoped>\n",
       "    .dataframe tbody tr th:only-of-type {\n",
       "        vertical-align: middle;\n",
       "    }\n",
       "\n",
       "    .dataframe tbody tr th {\n",
       "        vertical-align: top;\n",
       "    }\n",
       "\n",
       "    .dataframe thead th {\n",
       "        text-align: right;\n",
       "    }\n",
       "</style>\n",
       "<table border=\"1\" class=\"dataframe\">\n",
       "  <thead>\n",
       "    <tr style=\"text-align: right;\">\n",
       "      <th></th>\n",
       "      <th>Rating</th>\n",
       "      <th>ratings_count</th>\n",
       "    </tr>\n",
       "    <tr>\n",
       "      <th>userId</th>\n",
       "      <th></th>\n",
       "      <th></th>\n",
       "    </tr>\n",
       "  </thead>\n",
       "  <tbody>\n",
       "    <tr>\n",
       "      <th>A001944026UMZ8T3K5QH1</th>\n",
       "      <td>1.0</td>\n",
       "      <td>1</td>\n",
       "    </tr>\n",
       "    <tr>\n",
       "      <th>A00766851QZZUBOVF4JFT</th>\n",
       "      <td>5.0</td>\n",
       "      <td>1</td>\n",
       "    </tr>\n",
       "    <tr>\n",
       "      <th>A01255851ZO1U93P8RKGE</th>\n",
       "      <td>5.0</td>\n",
       "      <td>1</td>\n",
       "    </tr>\n",
       "    <tr>\n",
       "      <th>A014623426J5CM7M12MBW</th>\n",
       "      <td>5.0</td>\n",
       "      <td>1</td>\n",
       "    </tr>\n",
       "    <tr>\n",
       "      <th>A01580702BRW77PSJ9X34</th>\n",
       "      <td>1.0</td>\n",
       "      <td>1</td>\n",
       "    </tr>\n",
       "  </tbody>\n",
       "</table>\n",
       "</div>"
      ],
      "text/plain": [
       "                       Rating  ratings_count\n",
       "userId                                      \n",
       "A001944026UMZ8T3K5QH1     1.0              1\n",
       "A00766851QZZUBOVF4JFT     5.0              1\n",
       "A01255851ZO1U93P8RKGE     5.0              1\n",
       "A014623426J5CM7M12MBW     5.0              1\n",
       "A01580702BRW77PSJ9X34     1.0              1"
      ]
     },
     "execution_count": 16,
     "metadata": {},
     "output_type": "execute_result"
    }
   ],
   "source": [
    "t2data_product_ratings =pd.DataFrame(data.groupby('userId')['Rating'].mean())\n",
    "t2data_product_ratings['ratings_count'] = pd.DataFrame(data.groupby('userId')['Rating'].count())\n",
    "t2data_product_ratings.head()"
   ]
  },
  {
   "cell_type": "code",
   "execution_count": 17,
   "metadata": {
    "id": "WrEgOly3p5Wh"
   },
   "outputs": [],
   "source": [
    "t2data_product_ratings['score'] = t2data_product_ratings['Rating']*t2data_product_ratings['ratings_count']"
   ]
  },
  {
   "cell_type": "code",
   "execution_count": 18,
   "metadata": {
    "colab": {
     "base_uri": "https://localhost:8080/",
     "height": 477
    },
    "id": "SEbt3PLyql9g",
    "outputId": "1a98f8f5-4938-4f66-e381-71f9035e2adf"
   },
   "outputs": [
    {
     "data": {
      "text/plain": [
       "<seaborn.axisgrid.JointGrid at 0x1da79639f90>"
      ]
     },
     "execution_count": 18,
     "metadata": {},
     "output_type": "execute_result"
    },
    {
     "data": {
      "text/plain": [
       "<Figure size 800x600 with 0 Axes>"
      ]
     },
     "metadata": {},
     "output_type": "display_data"
    },
    {
     "data": {
      "image/png": "[encoded data removed]",
      "text/plain": [
       "<Figure size 600x600 with 3 Axes>"
      ]
     },
     "metadata": {},
     "output_type": "display_data"
    }
   ],
   "source": [
    "plt.figure(figsize=(8,6))\n",
    "sns.jointplot(x='Rating', y='ratings_count', data=t2data_product_ratings)"
   ]
  },
  {
   "cell_type": "markdown",
   "metadata": {
    "id": "kBrBWoUwqFWO"
   },
   "source": [
    "# DROP TIMESTAMP"
   ]
  },
  {
   "cell_type": "code",
   "execution_count": 19,
   "metadata": {
    "id": "STaPJ3uRqp4I"
   },
   "outputs": [],
   "source": [
    "data.drop(['timestamp'], axis=1,inplace=True)"
   ]
  },
  {
   "cell_type": "code",
   "execution_count": 20,
   "metadata": {
    "colab": {
     "base_uri": "https://localhost:8080/",
     "height": 424
    },
    "id": "xJ50606jqN1O",
    "outputId": "8c0123fc-281e-4e01-8981-e0b9c48bf2e7"
   },
   "outputs": [
    {
     "data": {
      "text/html": [
       "<div>\n",
       "<style scoped>\n",
       "    .dataframe tbody tr th:only-of-type {\n",
       "        vertical-align: middle;\n",
       "    }\n",
       "\n",
       "    .dataframe tbody tr th {\n",
       "        vertical-align: top;\n",
       "    }\n",
       "\n",
       "    .dataframe thead th {\n",
       "        text-align: right;\n",
       "    }\n",
       "</style>\n",
       "<table border=\"1\" class=\"dataframe\">\n",
       "  <thead>\n",
       "    <tr style=\"text-align: right;\">\n",
       "      <th></th>\n",
       "      <th>userId</th>\n",
       "      <th>productId</th>\n",
       "      <th>Rating</th>\n",
       "    </tr>\n",
       "  </thead>\n",
       "  <tbody>\n",
       "    <tr>\n",
       "      <th>0</th>\n",
       "      <td>userId</td>\n",
       "      <td>productId</td>\n",
       "      <td>NaN</td>\n",
       "    </tr>\n",
       "    <tr>\n",
       "      <th>1</th>\n",
       "      <td>AKM1MP6P0OYPR</td>\n",
       "      <td>0132793040</td>\n",
       "      <td>5.0</td>\n",
       "    </tr>\n",
       "    <tr>\n",
       "      <th>2</th>\n",
       "      <td>A2CX7LUOHB2NDG</td>\n",
       "      <td>0321732944</td>\n",
       "      <td>5.0</td>\n",
       "    </tr>\n",
       "    <tr>\n",
       "      <th>3</th>\n",
       "      <td>A2NWSAGRHCP8N5</td>\n",
       "      <td>0439886341</td>\n",
       "      <td>1.0</td>\n",
       "    </tr>\n",
       "    <tr>\n",
       "      <th>4</th>\n",
       "      <td>A2WNBOD3WNDNKT</td>\n",
       "      <td>0439886341</td>\n",
       "      <td>3.0</td>\n",
       "    </tr>\n",
       "    <tr>\n",
       "      <th>...</th>\n",
       "      <td>...</td>\n",
       "      <td>...</td>\n",
       "      <td>...</td>\n",
       "    </tr>\n",
       "    <tr>\n",
       "      <th>59995</th>\n",
       "      <td>AJLBSZDI3SFHP</td>\n",
       "      <td>B00004WHS4</td>\n",
       "      <td>4.0</td>\n",
       "    </tr>\n",
       "    <tr>\n",
       "      <th>59996</th>\n",
       "      <td>A3DX6U1B9KDUW4</td>\n",
       "      <td>B00004WHSD</td>\n",
       "      <td>1.0</td>\n",
       "    </tr>\n",
       "    <tr>\n",
       "      <th>59997</th>\n",
       "      <td>A1BCHEPYUNRLJ</td>\n",
       "      <td>B00004WHSD</td>\n",
       "      <td>5.0</td>\n",
       "    </tr>\n",
       "    <tr>\n",
       "      <th>59998</th>\n",
       "      <td>A1RLVKQQWHOQAW</td>\n",
       "      <td>B00004WHSD</td>\n",
       "      <td>5.0</td>\n",
       "    </tr>\n",
       "    <tr>\n",
       "      <th>59999</th>\n",
       "      <td>A3T9DOOJ5B1U7O</td>\n",
       "      <td>B00004WHV7</td>\n",
       "      <td>5.0</td>\n",
       "    </tr>\n",
       "  </tbody>\n",
       "</table>\n",
       "<p>60000 rows × 3 columns</p>\n",
       "</div>"
      ],
      "text/plain": [
       "               userId   productId  Rating\n",
       "0              userId   productId     NaN\n",
       "1       AKM1MP6P0OYPR  0132793040     5.0\n",
       "2      A2CX7LUOHB2NDG  0321732944     5.0\n",
       "3      A2NWSAGRHCP8N5  0439886341     1.0\n",
       "4      A2WNBOD3WNDNKT  0439886341     3.0\n",
       "...               ...         ...     ...\n",
       "59995   AJLBSZDI3SFHP  B00004WHS4     4.0\n",
       "59996  A3DX6U1B9KDUW4  B00004WHSD     1.0\n",
       "59997   A1BCHEPYUNRLJ  B00004WHSD     5.0\n",
       "59998  A1RLVKQQWHOQAW  B00004WHSD     5.0\n",
       "59999  A3T9DOOJ5B1U7O  B00004WHV7     5.0\n",
       "\n",
       "[60000 rows x 3 columns]"
      ]
     },
     "execution_count": 20,
     "metadata": {},
     "output_type": "execute_result"
    }
   ],
   "source": [
    "data"
   ]
  },
  {
   "cell_type": "markdown",
   "metadata": {
    "id": "zG2DfMKdrJiM"
   },
   "source": [
    "# POPULARITY BASED METHOD"
   ]
  },
  {
   "cell_type": "code",
   "execution_count": 21,
   "metadata": {
    "id": "PSfFzeSuqP_x"
   },
   "outputs": [],
   "source": [
    "new_df=data.groupby(\"productId\").filter(lambda x:x['Rating'].count() >=2)"
   ]
  },
  {
   "cell_type": "code",
   "execution_count": 22,
   "metadata": {
    "colab": {
     "base_uri": "https://localhost:8080/",
     "height": 424
    },
    "id": "3GnmtPv0r4Cd",
    "outputId": "f5f299a7-e0bb-4c78-d114-2fa387fb222c"
   },
   "outputs": [
    {
     "data": {
      "text/html": [
       "<div>\n",
       "<style scoped>\n",
       "    .dataframe tbody tr th:only-of-type {\n",
       "        vertical-align: middle;\n",
       "    }\n",
       "\n",
       "    .dataframe tbody tr th {\n",
       "        vertical-align: top;\n",
       "    }\n",
       "\n",
       "    .dataframe thead th {\n",
       "        text-align: right;\n",
       "    }\n",
       "</style>\n",
       "<table border=\"1\" class=\"dataframe\">\n",
       "  <thead>\n",
       "    <tr style=\"text-align: right;\">\n",
       "      <th></th>\n",
       "      <th>userId</th>\n",
       "      <th>productId</th>\n",
       "      <th>Rating</th>\n",
       "    </tr>\n",
       "  </thead>\n",
       "  <tbody>\n",
       "    <tr>\n",
       "      <th>3</th>\n",
       "      <td>A2NWSAGRHCP8N5</td>\n",
       "      <td>0439886341</td>\n",
       "      <td>1.0</td>\n",
       "    </tr>\n",
       "    <tr>\n",
       "      <th>4</th>\n",
       "      <td>A2WNBOD3WNDNKT</td>\n",
       "      <td>0439886341</td>\n",
       "      <td>3.0</td>\n",
       "    </tr>\n",
       "    <tr>\n",
       "      <th>5</th>\n",
       "      <td>A1GI0U4ZRJA8WN</td>\n",
       "      <td>0439886341</td>\n",
       "      <td>1.0</td>\n",
       "    </tr>\n",
       "    <tr>\n",
       "      <th>6</th>\n",
       "      <td>A1QGNMC6O1VW39</td>\n",
       "      <td>0511189877</td>\n",
       "      <td>5.0</td>\n",
       "    </tr>\n",
       "    <tr>\n",
       "      <th>7</th>\n",
       "      <td>A3J3BRHTDRFJ2G</td>\n",
       "      <td>0511189877</td>\n",
       "      <td>2.0</td>\n",
       "    </tr>\n",
       "    <tr>\n",
       "      <th>...</th>\n",
       "      <td>...</td>\n",
       "      <td>...</td>\n",
       "      <td>...</td>\n",
       "    </tr>\n",
       "    <tr>\n",
       "      <th>59994</th>\n",
       "      <td>AUU9FAUKPZHV8</td>\n",
       "      <td>B00004WHS4</td>\n",
       "      <td>2.0</td>\n",
       "    </tr>\n",
       "    <tr>\n",
       "      <th>59995</th>\n",
       "      <td>AJLBSZDI3SFHP</td>\n",
       "      <td>B00004WHS4</td>\n",
       "      <td>4.0</td>\n",
       "    </tr>\n",
       "    <tr>\n",
       "      <th>59996</th>\n",
       "      <td>A3DX6U1B9KDUW4</td>\n",
       "      <td>B00004WHSD</td>\n",
       "      <td>1.0</td>\n",
       "    </tr>\n",
       "    <tr>\n",
       "      <th>59997</th>\n",
       "      <td>A1BCHEPYUNRLJ</td>\n",
       "      <td>B00004WHSD</td>\n",
       "      <td>5.0</td>\n",
       "    </tr>\n",
       "    <tr>\n",
       "      <th>59998</th>\n",
       "      <td>A1RLVKQQWHOQAW</td>\n",
       "      <td>B00004WHSD</td>\n",
       "      <td>5.0</td>\n",
       "    </tr>\n",
       "  </tbody>\n",
       "</table>\n",
       "<p>58713 rows × 3 columns</p>\n",
       "</div>"
      ],
      "text/plain": [
       "               userId   productId  Rating\n",
       "3      A2NWSAGRHCP8N5  0439886341     1.0\n",
       "4      A2WNBOD3WNDNKT  0439886341     3.0\n",
       "5      A1GI0U4ZRJA8WN  0439886341     1.0\n",
       "6      A1QGNMC6O1VW39  0511189877     5.0\n",
       "7      A3J3BRHTDRFJ2G  0511189877     2.0\n",
       "...               ...         ...     ...\n",
       "59994   AUU9FAUKPZHV8  B00004WHS4     2.0\n",
       "59995   AJLBSZDI3SFHP  B00004WHS4     4.0\n",
       "59996  A3DX6U1B9KDUW4  B00004WHSD     1.0\n",
       "59997   A1BCHEPYUNRLJ  B00004WHSD     5.0\n",
       "59998  A1RLVKQQWHOQAW  B00004WHSD     5.0\n",
       "\n",
       "[58713 rows x 3 columns]"
      ]
     },
     "execution_count": 22,
     "metadata": {},
     "output_type": "execute_result"
    }
   ],
   "source": [
    "new_df"
   ]
  },
  {
   "cell_type": "code",
   "execution_count": 23,
   "metadata": {
    "colab": {
     "base_uri": "https://localhost:8080/"
    },
    "id": "xdOrZCeerhvm",
    "outputId": "096c8126-38dd-4251-8413-5f0e2584ebd3"
   },
   "outputs": [
    {
     "data": {
      "text/plain": [
       "productId\n",
       "0439886341    1.666667\n",
       "0511189877    4.500000\n",
       "0528881469    2.851852\n",
       "059400232X    5.000000\n",
       "0594012015    2.000000\n",
       "Name: Rating, dtype: float64"
      ]
     },
     "execution_count": 23,
     "metadata": {},
     "output_type": "execute_result"
    }
   ],
   "source": [
    "new_df.groupby('productId')['Rating'].mean().head()"
   ]
  },
  {
   "cell_type": "code",
   "execution_count": 24,
   "metadata": {
    "colab": {
     "base_uri": "https://localhost:8080/"
    },
    "id": "T79um76xr-18",
    "outputId": "be2ee109-16c8-4690-d436-d3b78716e8fb"
   },
   "outputs": [
    {
     "data": {
      "text/plain": [
       "productId\n",
       "B00002EQBR    5.0\n",
       "9983782030    5.0\n",
       "B00004VVUQ    5.0\n",
       "9984971805    5.0\n",
       "B00004T1XJ    5.0\n",
       "Name: Rating, dtype: float64"
      ]
     },
     "execution_count": 24,
     "metadata": {},
     "output_type": "execute_result"
    }
   ],
   "source": [
    "new_df.groupby('productId')['Rating'].mean().sort_values(ascending=False).head()"
   ]
  },
  {
   "cell_type": "code",
   "execution_count": 25,
   "metadata": {
    "colab": {
     "base_uri": "https://localhost:8080/"
    },
    "id": "pprgE8g8sIp4",
    "outputId": "6e847afe-9ce2-46bb-8bcb-c640233c2cd7"
   },
   "outputs": [
    {
     "data": {
      "text/plain": [
       "productId\n",
       "B00001P4ZH    2075\n",
       "B00004T8R2    1692\n",
       "B00001WRSJ    1586\n",
       "0972683275    1051\n",
       "B00004SABB    1030\n",
       "Name: Rating, dtype: int64"
      ]
     },
     "execution_count": 25,
     "metadata": {},
     "output_type": "execute_result"
    }
   ],
   "source": [
    "new_df.groupby('productId')['Rating'].count().sort_values(ascending=False).head()"
   ]
  },
  {
   "cell_type": "code",
   "execution_count": 26,
   "metadata": {
    "id": "iAK2nKX0sOOC"
   },
   "outputs": [],
   "source": [
    "ratings_mean_count = pd.DataFrame(new_df.groupby('productId')['Rating'].mean())"
   ]
  },
  {
   "cell_type": "code",
   "execution_count": 27,
   "metadata": {
    "id": "7gWgM_TfsVcZ"
   },
   "outputs": [],
   "source": [
    "ratings_mean_count['rating_counts'] = pd.DataFrame(new_df.groupby('productId')['Rating'].count())"
   ]
  },
  {
   "cell_type": "code",
   "execution_count": 28,
   "metadata": {
    "colab": {
     "base_uri": "https://localhost:8080/",
     "height": 238
    },
    "id": "OxLYBoWXsY3H",
    "outputId": "de6f05e4-97b3-45bb-bdd3-07bb52fc5da1"
   },
   "outputs": [
    {
     "data": {
      "text/html": [
       "<div>\n",
       "<style scoped>\n",
       "    .dataframe tbody tr th:only-of-type {\n",
       "        vertical-align: middle;\n",
       "    }\n",
       "\n",
       "    .dataframe tbody tr th {\n",
       "        vertical-align: top;\n",
       "    }\n",
       "\n",
       "    .dataframe thead th {\n",
       "        text-align: right;\n",
       "    }\n",
       "</style>\n",
       "<table border=\"1\" class=\"dataframe\">\n",
       "  <thead>\n",
       "    <tr style=\"text-align: right;\">\n",
       "      <th></th>\n",
       "      <th>Rating</th>\n",
       "      <th>rating_counts</th>\n",
       "    </tr>\n",
       "    <tr>\n",
       "      <th>productId</th>\n",
       "      <th></th>\n",
       "      <th></th>\n",
       "    </tr>\n",
       "  </thead>\n",
       "  <tbody>\n",
       "    <tr>\n",
       "      <th>0439886341</th>\n",
       "      <td>1.666667</td>\n",
       "      <td>3</td>\n",
       "    </tr>\n",
       "    <tr>\n",
       "      <th>0511189877</th>\n",
       "      <td>4.500000</td>\n",
       "      <td>6</td>\n",
       "    </tr>\n",
       "    <tr>\n",
       "      <th>0528881469</th>\n",
       "      <td>2.851852</td>\n",
       "      <td>27</td>\n",
       "    </tr>\n",
       "    <tr>\n",
       "      <th>059400232X</th>\n",
       "      <td>5.000000</td>\n",
       "      <td>3</td>\n",
       "    </tr>\n",
       "    <tr>\n",
       "      <th>0594012015</th>\n",
       "      <td>2.000000</td>\n",
       "      <td>8</td>\n",
       "    </tr>\n",
       "  </tbody>\n",
       "</table>\n",
       "</div>"
      ],
      "text/plain": [
       "              Rating  rating_counts\n",
       "productId                          \n",
       "0439886341  1.666667              3\n",
       "0511189877  4.500000              6\n",
       "0528881469  2.851852             27\n",
       "059400232X  5.000000              3\n",
       "0594012015  2.000000              8"
      ]
     },
     "execution_count": 28,
     "metadata": {},
     "output_type": "execute_result"
    }
   ],
   "source": [
    "ratings_mean_count.head()"
   ]
  },
  {
   "cell_type": "code",
   "execution_count": 29,
   "metadata": {
    "colab": {
     "base_uri": "https://localhost:8080/",
     "height": 357
    },
    "id": "M_sparClsb0f",
    "outputId": "1bc31bf8-fb77-405f-fb50-b00e5d0bd882"
   },
   "outputs": [
    {
     "data": {
      "text/plain": [
       "<Axes: xlabel='productId'>"
      ]
     },
     "execution_count": 29,
     "metadata": {},
     "output_type": "execute_result"
    },
    {
     "data": {
      "image/png": "[encoded data removed]",
      "text/plain": [
       "<Figure size 640x480 with 1 Axes>"
      ]
     },
     "metadata": {},
     "output_type": "display_data"
    }
   ],
   "source": [
    "popular_products = pd.DataFrame(new_df.groupby('productId')['Rating'].count())\n",
    "most_popular = popular_products.sort_values('Rating', ascending=False)\n",
    "most_popular.head(30).plot(kind = \"bar\")"
   ]
  },
  {
   "cell_type": "code",
   "execution_count": 30,
   "metadata": {
    "colab": {
     "base_uri": "https://localhost:8080/",
     "height": 356
    },
    "id": "YICBS3rCso-4",
    "outputId": "a6da0ef4-79e1-48dc-c9fd-79b367846083"
   },
   "outputs": [
    {
     "data": {
      "text/plain": [
       "<Axes: xlabel='productId'>"
      ]
     },
     "execution_count": 30,
     "metadata": {},
     "output_type": "execute_result"
    },
    {
     "data": {
      "image/png": "[encoded data removed]",
      "text/plain": [
       "<Figure size 640x480 with 1 Axes>"
      ]
     },
     "metadata": {},
     "output_type": "display_data"
    }
   ],
   "source": [
    "popular_products = pd.DataFrame(new_df.groupby('productId')['Rating'].mean())\n",
    "most_popular = popular_products.sort_values('Rating', ascending=False)\n",
    "most_popular.head(30).plot(kind = \"bar\")"
   ]
  },
  {
   "cell_type": "markdown",
   "metadata": {
    "id": "0TgOPhCWs5CP"
   },
   "source": [
    "# Collaberative filtering (Item-Item recommedation)"
   ]
  },
  {
   "cell_type": "code",
   "execution_count": 31,
   "metadata": {
    "colab": {
     "base_uri": "https://localhost:8080/"
    },
    "id": "dRR7ep2WtouT",
    "outputId": "ed01266f-3674-41ca-cbc9-c24d9d78344d"
   },
   "outputs": [],
   "source": [
    "#pip install scikit-surprise"
   ]
  },
  {
   "cell_type": "code",
   "execution_count": 32,
   "metadata": {
    "id": "X6_0Y_6cs1TI"
   },
   "outputs": [],
   "source": [
    "from surprise import SVD,  SlopeOne\n",
    "from surprise import KNNBaseline, KNNBasic, KNNWithMeans, KNNWithZScore\n",
    "\n",
    "from surprise import Dataset\n",
    "from surprise import accuracy\n",
    "from surprise import Reader\n",
    "import os\n",
    "from surprise.model_selection import train_test_split"
   ]
  },
  {
   "cell_type": "code",
   "execution_count": 33,
   "metadata": {
    "id": "b3UKjIJctYqE"
   },
   "outputs": [],
   "source": [
    "# Preparing the data for the Surprise library\n",
    "reader = Reader(rating_scale=(1, 5))\n",
    "data = Dataset.load_from_df(new_df,reader)"
   ]
  },
  {
   "cell_type": "code",
   "execution_count": 34,
   "metadata": {
    "id": "vRRZenySuYTd"
   },
   "outputs": [],
   "source": [
    "trainset, testset = train_test_split(data, test_size=0.3,random_state=10)"
   ]
  },
  {
   "cell_type": "markdown",
   "metadata": {
    "id": "ZwsVUYdHuvgW"
   },
   "source": [
    "# MEMORY BASED"
   ]
  },
  {
   "cell_type": "code",
   "execution_count": 35,
   "metadata": {
    "id": "8R6H8ibdurG5"
   },
   "outputs": [],
   "source": [
    "bsl_options = {'method': 'als', 'n_epochs': 5, 'reg_u': 12, 'reg_i': 5 }\n",
    "sim_options={'name': 'pearson_baseline', 'user_based': False}"
   ]
  },
  {
   "cell_type": "code",
   "execution_count": 36,
   "metadata": {
    "colab": {
     "base_uri": "https://localhost:8080/"
    },
    "id": "k9YoMkx8ux93",
    "outputId": "0d4e8269-491c-4989-8043-2cb6adea8814"
   },
   "outputs": [
    {
     "name": "stdout",
     "output_type": "stream",
     "text": [
      "Estimating biases using als...\n",
      "Computing the pearson_baseline similarity matrix...\n",
      "Done computing similarity matrix.\n",
      "RMSE: 1.3388\n"
     ]
    }
   ],
   "source": [
    "algo_KNNBasic = KNNBasic(k=5,sim_options = sim_options , bsl_options = bsl_options)\n",
    "predictions_KNNBasic = algo_KNNBasic.fit(trainset).test(testset)\n",
    "rmse_KNNBasic = accuracy.rmse(predictions_KNNBasic)"
   ]
  },
  {
   "cell_type": "markdown",
   "metadata": {
    "id": "ayIi612q0_q4"
   },
   "source": [
    "# CREATE UNIQUE USER AND PRODUCTS"
   ]
  },
  {
   "cell_type": "code",
   "execution_count": 37,
   "metadata": {
    "colab": {
     "base_uri": "https://localhost:8080/"
    },
    "id": "vyQGsX2W00t_",
    "outputId": "1017e324-467f-4556-d848-9982bfe5d104"
   },
   "outputs": [
    {
     "data": {
      "text/plain": [
       "['0439886341',\n",
       " '0511189877',\n",
       " '0528881469',\n",
       " '059400232X',\n",
       " '0594012015',\n",
       " '0594033896',\n",
       " '0594033926',\n",
       " '0594033934',\n",
       " '0594296420',\n",
       " '0594450209']"
      ]
     },
     "execution_count": 37,
     "metadata": {},
     "output_type": "execute_result"
    }
   ],
   "source": [
    "all_user_ids = list(new_df['userId'].unique())\n",
    "all_products = list(new_df['productId'].unique())\n",
    "all_products[:10]"
   ]
  },
  {
   "cell_type": "markdown",
   "metadata": {
    "id": "A-fkYaGW1g8H"
   },
   "source": [
    "# CHOOSE ONE USER"
   ]
  },
  {
   "cell_type": "code",
   "execution_count": 38,
   "metadata": {
    "colab": {
     "base_uri": "https://localhost:8080/"
    },
    "id": "0EJ7C7GP1WhZ",
    "outputId": "5db2520c-04fc-456f-8706-b47dce99879c"
   },
   "outputs": [
    {
     "data": {
      "text/plain": [
       "54245"
      ]
     },
     "execution_count": 38,
     "metadata": {},
     "output_type": "execute_result"
    }
   ],
   "source": [
    "len(all_user_ids)"
   ]
  },
  {
   "cell_type": "code",
   "execution_count": 39,
   "metadata": {
    "colab": {
     "base_uri": "https://localhost:8080/"
    },
    "id": "25Ktb0C81Zgn",
    "outputId": "22b55f03-bc93-4455-e1e0-5336a6ad6fdb"
   },
   "outputs": [
    {
     "name": "stdout",
     "output_type": "stream",
     "text": [
      "User choosen to generate recommendation list is A3PRSCGIX3NY0X\n"
     ]
    }
   ],
   "source": [
    "user_index = 200\n",
    "uid = all_user_ids[user_index]\n",
    "print(\"User choosen to generate recommendation list is \" + str(uid))"
   ]
  },
  {
   "cell_type": "code",
   "execution_count": 40,
   "metadata": {
    "colab": {
     "base_uri": "https://localhost:8080/"
    },
    "id": "A8hsiRSJ1qda",
    "outputId": "e0a0d872-fe4d-4381-8fac-8ba74bcfeed0"
   },
   "outputs": [
    {
     "name": "stdout",
     "output_type": "stream",
     "text": [
      "Choosen User has purchased the following items \n",
      "0972683275\n",
      "B00004TDN2\n",
      "Recommended items for user A3PRSCGIX3NY0X by KNNBasic \n",
      " ['B00004T8R2', '9985511476', 'B00001W0EQ', 'B00000K3RK', 'B00004RJZG', 'B00001W0DH', 'B00000K2YR', 'B00004WCGF', 'B00000JSEQ', 'B00000J1SC', 'B000021YTD', 'B00004WCIC', 'B00004WGNF', 'B00002MZ8G']\n"
     ]
    }
   ],
   "source": [
    "items_purchased = trainset.ur[trainset.to_inner_uid(uid)]\n",
    "\n",
    "\n",
    "print(\"Choosen User has purchased the following items \")\n",
    "for items in items_purchased[0]:\n",
    "    print(algo_KNNBasic.trainset.to_raw_iid(items))\n",
    "\n",
    "\n",
    "\n",
    "#getting K Neareset Neighbors for first item purchased by the choosen user\n",
    "KNN_Product = algo_KNNBasic.get_neighbors(items_purchased[0][0], 15)\n",
    "\n",
    "recommendedation_lits = []\n",
    "for product_iid in KNN_Product:\n",
    "    if not product_iid in items_purchased[0]: #user already has purchased the item\n",
    "        purchased_item = algo_KNNBasic.trainset.to_raw_iid(product_iid)\n",
    "        recommendedation_lits.append(purchased_item)\n",
    "print(\"Recommended items for user \" + str(uid) + \" by KNNBasic \\n\"  , recommendedation_lits)"
   ]
  },
  {
   "cell_type": "code",
   "execution_count": 41,
   "metadata": {
    "id": "IBKHUolx-CgW"
   },
   "outputs": [],
   "source": [
    "df_predictions_KNNBasic = pd.DataFrame(predictions_KNNBasic, columns=['uid', 'iid', 'rui', 'est', 'details'])\n",
    "df_predictions_KNNBasic['err'] = abs(df_predictions_KNNBasic.est - df_predictions_KNNBasic.rui)"
   ]
  },
  {
   "cell_type": "code",
   "execution_count": 42,
   "metadata": {
    "id": "6sfhsJLd-HLq"
   },
   "outputs": [],
   "source": [
    "best_predictions = df_predictions_KNNBasic.sort_values(by='err')[:10]\n",
    "worst_predictions = df_predictions_KNNBasic.sort_values(by='err')[-10:]"
   ]
  },
  {
   "cell_type": "code",
   "execution_count": 43,
   "metadata": {
    "colab": {
     "base_uri": "https://localhost:8080/",
     "height": 363
    },
    "id": "NxnflNbGEPjC",
    "outputId": "54c8d90e-757a-4cd5-e31d-6fbe943a3dce"
   },
   "outputs": [
    {
     "data": {
      "text/html": [
       "<div>\n",
       "<style scoped>\n",
       "    .dataframe tbody tr th:only-of-type {\n",
       "        vertical-align: middle;\n",
       "    }\n",
       "\n",
       "    .dataframe tbody tr th {\n",
       "        vertical-align: top;\n",
       "    }\n",
       "\n",
       "    .dataframe thead th {\n",
       "        text-align: right;\n",
       "    }\n",
       "</style>\n",
       "<table border=\"1\" class=\"dataframe\">\n",
       "  <thead>\n",
       "    <tr style=\"text-align: right;\">\n",
       "      <th></th>\n",
       "      <th>uid</th>\n",
       "      <th>iid</th>\n",
       "      <th>rui</th>\n",
       "      <th>est</th>\n",
       "      <th>details</th>\n",
       "      <th>err</th>\n",
       "    </tr>\n",
       "  </thead>\n",
       "  <tbody>\n",
       "    <tr>\n",
       "      <th>8595</th>\n",
       "      <td>A26D3NDNGDLIC4</td>\n",
       "      <td>B00004TDN4</td>\n",
       "      <td>4.0</td>\n",
       "      <td>4.0</td>\n",
       "      <td>{'actual_k': 1, 'was_impossible': False}</td>\n",
       "      <td>0.0</td>\n",
       "    </tr>\n",
       "    <tr>\n",
       "      <th>6194</th>\n",
       "      <td>A2HLQAETMSO4Q8</td>\n",
       "      <td>B00001P505</td>\n",
       "      <td>4.0</td>\n",
       "      <td>4.0</td>\n",
       "      <td>{'actual_k': 1, 'was_impossible': False}</td>\n",
       "      <td>0.0</td>\n",
       "    </tr>\n",
       "    <tr>\n",
       "      <th>6196</th>\n",
       "      <td>A1Q29INJ9IN570</td>\n",
       "      <td>B00004SB92</td>\n",
       "      <td>5.0</td>\n",
       "      <td>5.0</td>\n",
       "      <td>{'actual_k': 1, 'was_impossible': False}</td>\n",
       "      <td>0.0</td>\n",
       "    </tr>\n",
       "    <tr>\n",
       "      <th>3227</th>\n",
       "      <td>A105GWGM7PDAI2</td>\n",
       "      <td>B00003G1RG</td>\n",
       "      <td>5.0</td>\n",
       "      <td>5.0</td>\n",
       "      <td>{'actual_k': 1, 'was_impossible': False}</td>\n",
       "      <td>0.0</td>\n",
       "    </tr>\n",
       "    <tr>\n",
       "      <th>11027</th>\n",
       "      <td>A2K5FK58JSWXJ9</td>\n",
       "      <td>B00004S9AK</td>\n",
       "      <td>5.0</td>\n",
       "      <td>5.0</td>\n",
       "      <td>{'actual_k': 1, 'was_impossible': False}</td>\n",
       "      <td>0.0</td>\n",
       "    </tr>\n",
       "    <tr>\n",
       "      <th>6300</th>\n",
       "      <td>A2G9NNSRTX8HMW</td>\n",
       "      <td>B00004T8R2</td>\n",
       "      <td>5.0</td>\n",
       "      <td>5.0</td>\n",
       "      <td>{'actual_k': 1, 'was_impossible': False}</td>\n",
       "      <td>0.0</td>\n",
       "    </tr>\n",
       "    <tr>\n",
       "      <th>14147</th>\n",
       "      <td>A14JBDSWKPKTZA</td>\n",
       "      <td>B00003006R</td>\n",
       "      <td>5.0</td>\n",
       "      <td>5.0</td>\n",
       "      <td>{'actual_k': 1, 'was_impossible': False}</td>\n",
       "      <td>0.0</td>\n",
       "    </tr>\n",
       "    <tr>\n",
       "      <th>15210</th>\n",
       "      <td>A1ISUNUWG0K02V</td>\n",
       "      <td>B00004RC2D</td>\n",
       "      <td>4.0</td>\n",
       "      <td>4.0</td>\n",
       "      <td>{'actual_k': 1, 'was_impossible': False}</td>\n",
       "      <td>0.0</td>\n",
       "    </tr>\n",
       "    <tr>\n",
       "      <th>14132</th>\n",
       "      <td>A1HMQHPNK3VVTU</td>\n",
       "      <td>B00004SCKA</td>\n",
       "      <td>5.0</td>\n",
       "      <td>5.0</td>\n",
       "      <td>{'actual_k': 1, 'was_impossible': False}</td>\n",
       "      <td>0.0</td>\n",
       "    </tr>\n",
       "    <tr>\n",
       "      <th>4821</th>\n",
       "      <td>A3EPOKANU798QW</td>\n",
       "      <td>B00004TL5Q</td>\n",
       "      <td>5.0</td>\n",
       "      <td>5.0</td>\n",
       "      <td>{'actual_k': 1, 'was_impossible': False}</td>\n",
       "      <td>0.0</td>\n",
       "    </tr>\n",
       "  </tbody>\n",
       "</table>\n",
       "</div>"
      ],
      "text/plain": [
       "                  uid         iid  rui  est  \\\n",
       "8595   A26D3NDNGDLIC4  B00004TDN4  4.0  4.0   \n",
       "6194   A2HLQAETMSO4Q8  B00001P505  4.0  4.0   \n",
       "6196   A1Q29INJ9IN570  B00004SB92  5.0  5.0   \n",
       "3227   A105GWGM7PDAI2  B00003G1RG  5.0  5.0   \n",
       "11027  A2K5FK58JSWXJ9  B00004S9AK  5.0  5.0   \n",
       "6300   A2G9NNSRTX8HMW  B00004T8R2  5.0  5.0   \n",
       "14147  A14JBDSWKPKTZA  B00003006R  5.0  5.0   \n",
       "15210  A1ISUNUWG0K02V  B00004RC2D  4.0  4.0   \n",
       "14132  A1HMQHPNK3VVTU  B00004SCKA  5.0  5.0   \n",
       "4821   A3EPOKANU798QW  B00004TL5Q  5.0  5.0   \n",
       "\n",
       "                                        details  err  \n",
       "8595   {'actual_k': 1, 'was_impossible': False}  0.0  \n",
       "6194   {'actual_k': 1, 'was_impossible': False}  0.0  \n",
       "6196   {'actual_k': 1, 'was_impossible': False}  0.0  \n",
       "3227   {'actual_k': 1, 'was_impossible': False}  0.0  \n",
       "11027  {'actual_k': 1, 'was_impossible': False}  0.0  \n",
       "6300   {'actual_k': 1, 'was_impossible': False}  0.0  \n",
       "14147  {'actual_k': 1, 'was_impossible': False}  0.0  \n",
       "15210  {'actual_k': 1, 'was_impossible': False}  0.0  \n",
       "14132  {'actual_k': 1, 'was_impossible': False}  0.0  \n",
       "4821   {'actual_k': 1, 'was_impossible': False}  0.0  "
      ]
     },
     "execution_count": 43,
     "metadata": {},
     "output_type": "execute_result"
    }
   ],
   "source": [
    "best_predictions"
   ]
  },
  {
   "cell_type": "code",
   "execution_count": 44,
   "metadata": {
    "colab": {
     "base_uri": "https://localhost:8080/",
     "height": 363
    },
    "id": "V3_BR83qERDy",
    "outputId": "d9d4961c-660a-4d55-b376-1561c6f37bf6"
   },
   "outputs": [
    {
     "data": {
      "text/html": [
       "<div>\n",
       "<style scoped>\n",
       "    .dataframe tbody tr th:only-of-type {\n",
       "        vertical-align: middle;\n",
       "    }\n",
       "\n",
       "    .dataframe tbody tr th {\n",
       "        vertical-align: top;\n",
       "    }\n",
       "\n",
       "    .dataframe thead th {\n",
       "        text-align: right;\n",
       "    }\n",
       "</style>\n",
       "<table border=\"1\" class=\"dataframe\">\n",
       "  <thead>\n",
       "    <tr style=\"text-align: right;\">\n",
       "      <th></th>\n",
       "      <th>uid</th>\n",
       "      <th>iid</th>\n",
       "      <th>rui</th>\n",
       "      <th>est</th>\n",
       "      <th>details</th>\n",
       "      <th>err</th>\n",
       "    </tr>\n",
       "  </thead>\n",
       "  <tbody>\n",
       "    <tr>\n",
       "      <th>10164</th>\n",
       "      <td>A1N7Q1NR7ELYCY</td>\n",
       "      <td>1400599997</td>\n",
       "      <td>1.0</td>\n",
       "      <td>4.057179</td>\n",
       "      <td>{'was_impossible': True, 'reason': 'User and/o...</td>\n",
       "      <td>3.057179</td>\n",
       "    </tr>\n",
       "    <tr>\n",
       "      <th>14650</th>\n",
       "      <td>A1NVS98O96RHMX</td>\n",
       "      <td>B00004VVUN</td>\n",
       "      <td>1.0</td>\n",
       "      <td>4.057179</td>\n",
       "      <td>{'was_impossible': True, 'reason': 'User and/o...</td>\n",
       "      <td>3.057179</td>\n",
       "    </tr>\n",
       "    <tr>\n",
       "      <th>2820</th>\n",
       "      <td>A2G0O4Y8QE10AE</td>\n",
       "      <td>B00000J1TS</td>\n",
       "      <td>1.0</td>\n",
       "      <td>4.057179</td>\n",
       "      <td>{'was_impossible': True, 'reason': 'Not enough...</td>\n",
       "      <td>3.057179</td>\n",
       "    </tr>\n",
       "    <tr>\n",
       "      <th>7093</th>\n",
       "      <td>A2PGQ584ZF9B3F</td>\n",
       "      <td>B00000K4KH</td>\n",
       "      <td>1.0</td>\n",
       "      <td>4.057179</td>\n",
       "      <td>{'was_impossible': True, 'reason': 'User and/o...</td>\n",
       "      <td>3.057179</td>\n",
       "    </tr>\n",
       "    <tr>\n",
       "      <th>10154</th>\n",
       "      <td>A18BX7HMYDZ7IP</td>\n",
       "      <td>B000028F42</td>\n",
       "      <td>1.0</td>\n",
       "      <td>4.057179</td>\n",
       "      <td>{'was_impossible': True, 'reason': 'User and/o...</td>\n",
       "      <td>3.057179</td>\n",
       "    </tr>\n",
       "    <tr>\n",
       "      <th>8182</th>\n",
       "      <td>A1YF0SKMGV2BIL</td>\n",
       "      <td>B00001P4ZH</td>\n",
       "      <td>5.0</td>\n",
       "      <td>1.000000</td>\n",
       "      <td>{'actual_k': 1, 'was_impossible': False}</td>\n",
       "      <td>4.000000</td>\n",
       "    </tr>\n",
       "    <tr>\n",
       "      <th>3748</th>\n",
       "      <td>ABIU9UY9J2CAS</td>\n",
       "      <td>B000031KIM</td>\n",
       "      <td>5.0</td>\n",
       "      <td>1.000000</td>\n",
       "      <td>{'actual_k': 1, 'was_impossible': False}</td>\n",
       "      <td>4.000000</td>\n",
       "    </tr>\n",
       "    <tr>\n",
       "      <th>6029</th>\n",
       "      <td>A2E7WCIG181AMI</td>\n",
       "      <td>B00004TWVY</td>\n",
       "      <td>1.0</td>\n",
       "      <td>5.000000</td>\n",
       "      <td>{'actual_k': 1, 'was_impossible': False}</td>\n",
       "      <td>4.000000</td>\n",
       "    </tr>\n",
       "    <tr>\n",
       "      <th>15043</th>\n",
       "      <td>ALUNVOQRXOZIA</td>\n",
       "      <td>B00004SB92</td>\n",
       "      <td>1.0</td>\n",
       "      <td>5.000000</td>\n",
       "      <td>{'actual_k': 1, 'was_impossible': False}</td>\n",
       "      <td>4.000000</td>\n",
       "    </tr>\n",
       "    <tr>\n",
       "      <th>12690</th>\n",
       "      <td>A3KN2OBPZ6QJLF</td>\n",
       "      <td>B00001P4ZH</td>\n",
       "      <td>1.0</td>\n",
       "      <td>5.000000</td>\n",
       "      <td>{'actual_k': 1, 'was_impossible': False}</td>\n",
       "      <td>4.000000</td>\n",
       "    </tr>\n",
       "  </tbody>\n",
       "</table>\n",
       "</div>"
      ],
      "text/plain": [
       "                  uid         iid  rui       est  \\\n",
       "10164  A1N7Q1NR7ELYCY  1400599997  1.0  4.057179   \n",
       "14650  A1NVS98O96RHMX  B00004VVUN  1.0  4.057179   \n",
       "2820   A2G0O4Y8QE10AE  B00000J1TS  1.0  4.057179   \n",
       "7093   A2PGQ584ZF9B3F  B00000K4KH  1.0  4.057179   \n",
       "10154  A18BX7HMYDZ7IP  B000028F42  1.0  4.057179   \n",
       "8182   A1YF0SKMGV2BIL  B00001P4ZH  5.0  1.000000   \n",
       "3748    ABIU9UY9J2CAS  B000031KIM  5.0  1.000000   \n",
       "6029   A2E7WCIG181AMI  B00004TWVY  1.0  5.000000   \n",
       "15043   ALUNVOQRXOZIA  B00004SB92  1.0  5.000000   \n",
       "12690  A3KN2OBPZ6QJLF  B00001P4ZH  1.0  5.000000   \n",
       "\n",
       "                                                 details       err  \n",
       "10164  {'was_impossible': True, 'reason': 'User and/o...  3.057179  \n",
       "14650  {'was_impossible': True, 'reason': 'User and/o...  3.057179  \n",
       "2820   {'was_impossible': True, 'reason': 'Not enough...  3.057179  \n",
       "7093   {'was_impossible': True, 'reason': 'User and/o...  3.057179  \n",
       "10154  {'was_impossible': True, 'reason': 'User and/o...  3.057179  \n",
       "8182            {'actual_k': 1, 'was_impossible': False}  4.000000  \n",
       "3748            {'actual_k': 1, 'was_impossible': False}  4.000000  \n",
       "6029            {'actual_k': 1, 'was_impossible': False}  4.000000  \n",
       "15043           {'actual_k': 1, 'was_impossible': False}  4.000000  \n",
       "12690           {'actual_k': 1, 'was_impossible': False}  4.000000  "
      ]
     },
     "execution_count": 44,
     "metadata": {},
     "output_type": "execute_result"
    }
   ],
   "source": [
    "worst_predictions"
   ]
  },
  {
   "cell_type": "code",
   "execution_count": 45,
   "metadata": {
    "id": "ooHMbPJLESmD"
   },
   "outputs": [],
   "source": [
    "import pickle\n",
    "\n",
    "with open('knnbasic_model.pkl', 'wb') as f:\n",
    "    pickle.dump(algo_KNNBasic, f)"
   ]
  }
 ],
 "metadata": {
  "colab": {
   "provenance": []
  },
  "gpuClass": "standard",
  "kernelspec": {
   "display_name": "Python 3 (ipykernel)",
   "language": "python",
   "name": "python3"
  },
  "language_info": {
   "codemirror_mode": {
    "name": "ipython",
    "version": 3
   },
   "file_extension": ".py",
   "mimetype": "text/x-python",
   "name": "python",
   "nbconvert_exporter": "python",
   "pygments_lexer": "ipython3",
   "version": "3.11.9"
  }
 },
 "nbformat": 4,
 "nbformat_minor": 4
}
